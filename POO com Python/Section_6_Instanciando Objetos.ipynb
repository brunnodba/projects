{
 "cells": [
  {
   "cell_type": "markdown",
   "metadata": {},
   "source": [
    "## Referenciando Objetos"
   ]
  },
  {
   "cell_type": "code",
   "execution_count": 3,
   "metadata": {},
   "outputs": [],
   "source": [
    "class Televisao():\n",
    "    def __init__(self, marca, ano, preco, n_canais):\n",
    "        self.marca = marca\n",
    "        self.ano = ano\n",
    "        self.preco = preco\n",
    "        self.n_canais = n_canais\n",
    "        \n",
    "    def mais_canal(self, valor):\n",
    "        self.n_canais += valor  \n",
    "        \n",
    "    def menos_canal(self, valor):\n",
    "        self.n_canais -= valor"
   ]
  },
  {
   "cell_type": "code",
   "execution_count": 4,
   "metadata": {},
   "outputs": [],
   "source": [
    "g1 = Televisao('LG',2024,1500,50)\n",
    "g2 = Televisao('Samsung',2023,1700,25)"
   ]
  },
  {
   "cell_type": "code",
   "execution_count": 5,
   "metadata": {},
   "outputs": [
    {
     "data": {
      "text/plain": [
       "<__main__.Televisao at 0x1f4ebdc3d90>"
      ]
     },
     "execution_count": 5,
     "metadata": {},
     "output_type": "execute_result"
    }
   ],
   "source": [
    "TV = Televisao('LG',2024,1500,50)\n",
    "TV"
   ]
  },
  {
   "cell_type": "code",
   "execution_count": 7,
   "metadata": {},
   "outputs": [
    {
     "data": {
      "text/plain": [
       "<__main__.Televisao at 0x1f4ebdc3d90>"
      ]
     },
     "execution_count": 7,
     "metadata": {},
     "output_type": "execute_result"
    }
   ],
   "source": [
    "LG = TV\n",
    "LG"
   ]
  },
  {
   "cell_type": "code",
   "execution_count": 11,
   "metadata": {},
   "outputs": [
    {
     "data": {
      "text/plain": [
       "True"
      ]
     },
     "execution_count": 11,
     "metadata": {},
     "output_type": "execute_result"
    }
   ],
   "source": [
    "#Mesmo endereço de memória para objetos referenciando por outro já existente.\n",
    "'0x1f4ebdc3d90' == '0x1f4ebdc3d90'"
   ]
  },
  {
   "cell_type": "markdown",
   "metadata": {},
   "source": [
    "### Remover Referências de Objetos - Atributos Privados"
   ]
  },
  {
   "cell_type": "code",
   "execution_count": 13,
   "metadata": {},
   "outputs": [],
   "source": [
    "LG = None\n",
    "LG"
   ]
  },
  {
   "cell_type": "code",
   "execution_count": null,
   "metadata": {},
   "outputs": [],
   "source": [
    "class Televisao():\n",
    "    def __init__(self, marca, ano, preco, n_canais):\n",
    "        self.marca = marca\n",
    "        self.ano = ano\n",
    "        self.preco = preco\n",
    "        self.n_canais = n_canais\n",
    "        self.__ligada = False    #Tornar privada o Atributo \"__\" para evitar alteração fora da Classe\n",
    "        \n",
    "    def mais_canal(self, valor):\n",
    "        self.n_canais += valor  \n",
    "        \n",
    "    def menos_canal(self, valor):\n",
    "        self.n_canais -= valor"
   ]
  },
  {
   "cell_type": "code",
   "execution_count": 27,
   "metadata": {},
   "outputs": [
    {
     "data": {
      "text/plain": [
       "<__main__.Televisao at 0x1f4ebfd2e40>"
      ]
     },
     "execution_count": 27,
     "metadata": {},
     "output_type": "execute_result"
    }
   ],
   "source": [
    "tv1 = Televisao('AOC',2023, 1300,40)\n",
    "tv1"
   ]
  },
  {
   "cell_type": "code",
   "execution_count": 24,
   "metadata": {},
   "outputs": [
    {
     "ename": "AttributeError",
     "evalue": "'Televisao' object has no attribute 'ligada'",
     "output_type": "error",
     "traceback": [
      "\u001b[1;31m---------------------------------------------------------------------------\u001b[0m",
      "\u001b[1;31mAttributeError\u001b[0m                            Traceback (most recent call last)",
      "Cell \u001b[1;32mIn[24], line 1\u001b[0m\n\u001b[1;32m----> 1\u001b[0m \u001b[43mtv1\u001b[49m\u001b[38;5;241;43m.\u001b[39;49m\u001b[43mligada\u001b[49m\n",
      "\u001b[1;31mAttributeError\u001b[0m: 'Televisao' object has no attribute 'ligada'"
     ]
    }
   ],
   "source": [
    "tv1.ligada"
   ]
  },
  {
   "cell_type": "code",
   "execution_count": 28,
   "metadata": {},
   "outputs": [
    {
     "ename": "AttributeError",
     "evalue": "'Televisao' object has no attribute '__ligada'",
     "output_type": "error",
     "traceback": [
      "\u001b[1;31m---------------------------------------------------------------------------\u001b[0m",
      "\u001b[1;31mAttributeError\u001b[0m                            Traceback (most recent call last)",
      "Cell \u001b[1;32mIn[28], line 1\u001b[0m\n\u001b[1;32m----> 1\u001b[0m \u001b[43mtv1\u001b[49m\u001b[38;5;241;43m.\u001b[39;49m\u001b[43m__ligada\u001b[49m\n",
      "\u001b[1;31mAttributeError\u001b[0m: 'Televisao' object has no attribute '__ligada'"
     ]
    }
   ],
   "source": [
    "tv1.__ligada"
   ]
  },
  {
   "cell_type": "markdown",
   "metadata": {},
   "source": [
    "### Criando atributo para ligar a TV que é do tipo Privado dentro da Classe"
   ]
  },
  {
   "cell_type": "code",
   "execution_count": 25,
   "metadata": {},
   "outputs": [],
   "source": [
    "class Televisao():\n",
    "    def __init__(self, marca, ano, preco, n_canais):\n",
    "        self.marca = marca\n",
    "        self.ano = ano\n",
    "        self.preco = preco\n",
    "        self.n_canais = n_canais\n",
    "        self.__ligada = False    #Tornar privado o Atributo \"__\" para evitar alteração fora da Classe\n",
    "        \n",
    "    def mais_canal(self, valor):\n",
    "        self.n_canais += valor  \n",
    "        \n",
    "    def menos_canal(self, valor):\n",
    "        self.n_canais -= valor\n",
    "        \n",
    "    def liga_tv(self):\n",
    "        self.__ligada = True\n",
    "        print(\"TV Ligada! \", self.__ligada)\n",
    "        \n",
    "    def desliga_tv(self):\n",
    "        self.__ligada = False\n",
    "        print(\"TV Desligada! \", self.__ligada)"
   ]
  },
  {
   "cell_type": "code",
   "execution_count": 26,
   "metadata": {},
   "outputs": [],
   "source": [
    "tv1 = Televisao('AOC',2023, 1300,40)"
   ]
  },
  {
   "cell_type": "code",
   "execution_count": 19,
   "metadata": {},
   "outputs": [
    {
     "name": "stdout",
     "output_type": "stream",
     "text": [
      "TV Ligada!  True\n"
     ]
    }
   ],
   "source": [
    "tv1.liga_tv()"
   ]
  },
  {
   "cell_type": "code",
   "execution_count": 16,
   "metadata": {},
   "outputs": [
    {
     "name": "stdout",
     "output_type": "stream",
     "text": [
      "TV Desligada!  False\n"
     ]
    }
   ],
   "source": [
    "tv1.desliga_tv()"
   ]
  },
  {
   "cell_type": "markdown",
   "metadata": {},
   "source": [
    "### Acessando Atributos Privados"
   ]
  },
  {
   "cell_type": "code",
   "execution_count": 17,
   "metadata": {},
   "outputs": [
    {
     "data": {
      "text/plain": [
       "<__main__.Televisao at 0x2340e1aa7b0>"
      ]
     },
     "execution_count": 17,
     "metadata": {},
     "output_type": "execute_result"
    }
   ],
   "source": [
    "tv1"
   ]
  },
  {
   "cell_type": "code",
   "execution_count": 20,
   "metadata": {},
   "outputs": [
    {
     "data": {
      "text/plain": [
       "True"
      ]
     },
     "execution_count": 20,
     "metadata": {},
     "output_type": "execute_result"
    }
   ],
   "source": [
    "tv1._Televisao__ligada"
   ]
  },
  {
   "cell_type": "code",
   "execution_count": 21,
   "metadata": {},
   "outputs": [
    {
     "data": {
      "text/plain": [
       "False"
      ]
     },
     "execution_count": 21,
     "metadata": {},
     "output_type": "execute_result"
    }
   ],
   "source": [
    "tv1._Televisao__ligada = False\n",
    "tv1._Televisao__ligada"
   ]
  },
  {
   "cell_type": "markdown",
   "metadata": {},
   "source": [
    "### Metodos Privados"
   ]
  },
  {
   "cell_type": "code",
   "execution_count": 85,
   "metadata": {},
   "outputs": [],
   "source": [
    "class Televisao():\n",
    "    #Atributos\n",
    "    def __init__(self, marca, ano, preco, n_canais):\n",
    "        self.marca = marca\n",
    "        self.ano = ano\n",
    "        self.preco = preco\n",
    "        self.n_canais = n_canais\n",
    "        self.__ligada = False    #Tornar privado o Atributo \"__\" para evitar alteração fora da Classe\n",
    "    \n",
    "    #Metodos\n",
    "    def mais_canal(self, valor):\n",
    "        self.n_canais += valor  \n",
    "        \n",
    "    def menos_canal(self, valor):\n",
    "        self.n_canais -= valor\n",
    "        \n",
    "    def liga_tv(self):\n",
    "        self.__ligada = True\n",
    "        print(\"TV Ligada! \", self.__ligada)\n",
    "        \n",
    "    def desliga_tv(self):\n",
    "        self.__ligada = False\n",
    "        print(\"TV Desligada! \", self.__ligada)\n",
    "    \n",
    "    def __meu_privado(self):\n",
    "        #print(\"Meu método privado!\") #Print não é retorno o método fica None(Vazio) #can only concatenate str (not \"NoneType\") to str\n",
    "        return \"Meu método privado!\"\n",
    "        \n",
    "    def teste(self):\n",
    "        #print(\"Estou utilizando um método privado aqui dentro - \" + str(self.marca) + \" ligada? \" + str(self.__ligada) + str(self.__meu_privado))\n",
    "        print(\"Estou utilizando um método privado aqui dentro - \" + self.marca + \" ligada? \" + str(self.__ligada) + self.__meu_privado())"
   ]
  },
  {
   "cell_type": "code",
   "execution_count": 86,
   "metadata": {},
   "outputs": [],
   "source": [
    "tv2 = Televisao('AOC',2023, 1300,40)"
   ]
  },
  {
   "cell_type": "code",
   "execution_count": 41,
   "metadata": {},
   "outputs": [
    {
     "ename": "AttributeError",
     "evalue": "'Televisao' object has no attribute '__meu_privado'",
     "output_type": "error",
     "traceback": [
      "\u001b[1;31m---------------------------------------------------------------------------\u001b[0m",
      "\u001b[1;31mAttributeError\u001b[0m                            Traceback (most recent call last)",
      "Cell \u001b[1;32mIn[41], line 1\u001b[0m\n\u001b[1;32m----> 1\u001b[0m \u001b[43mtv2\u001b[49m\u001b[38;5;241;43m.\u001b[39;49m\u001b[43m__meu_privado\u001b[49m()\n",
      "\u001b[1;31mAttributeError\u001b[0m: 'Televisao' object has no attribute '__meu_privado'"
     ]
    }
   ],
   "source": [
    "tv2.__meu_privado()"
   ]
  },
  {
   "cell_type": "code",
   "execution_count": 87,
   "metadata": {},
   "outputs": [
    {
     "name": "stdout",
     "output_type": "stream",
     "text": [
      "Estou utilizando um método privado aqui dentro - AOC ligada? FalseMeu método privado!\n"
     ]
    }
   ],
   "source": [
    "tv2.teste();"
   ]
  }
 ],
 "metadata": {
  "kernelspec": {
   "display_name": "Python 3",
   "language": "python",
   "name": "python3"
  },
  "language_info": {
   "codemirror_mode": {
    "name": "ipython",
    "version": 3
   },
   "file_extension": ".py",
   "mimetype": "text/x-python",
   "name": "python",
   "nbconvert_exporter": "python",
   "pygments_lexer": "ipython3",
   "version": "3.13.0"
  }
 },
 "nbformat": 4,
 "nbformat_minor": 2
}

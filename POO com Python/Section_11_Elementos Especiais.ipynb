{
 "cells": [
  {
   "cell_type": "markdown",
   "metadata": {},
   "source": [
    "# Metodos Especiais"
   ]
  },
  {
   "cell_type": "markdown",
   "metadata": {},
   "source": [
    "## Método de Classe"
   ]
  },
  {
   "cell_type": "markdown",
   "metadata": {},
   "source": [
    "- Métodos de classe: Usamos o decorador: @classmethod\n",
    "- Métodos estáticos: usamos o decorador: @staticmethod"
   ]
  },
  {
   "cell_type": "code",
   "execution_count": 22,
   "metadata": {},
   "outputs": [],
   "source": [
    "class Pessoa:\n",
    "    _num_pessoas = 0\n",
    "    \n",
    "    def __init__(self, idade, nome):\n",
    "        self.__idade = idade\n",
    "        Pessoa._num_pessoas += 1\n",
    "        Pessoa._nome = nome\n",
    "    \n",
    "    @classmethod\n",
    "    def get_num_pessoas(cls):\n",
    "        return cls._num_pessoas\n",
    "    \n",
    "    #OU\n",
    "    @staticmethod #Decorador elimina a necessidade do \"Self\"\n",
    "    def get_nome_pessoas():\n",
    "        return Pessoa._nome"
   ]
  },
  {
   "cell_type": "code",
   "execution_count": 23,
   "metadata": {},
   "outputs": [],
   "source": [
    "p1 = Pessoa(20, 'Maria')\n",
    "p2 = Pessoa(30, 'João')"
   ]
  },
  {
   "cell_type": "code",
   "execution_count": 24,
   "metadata": {},
   "outputs": [
    {
     "data": {
      "text/plain": [
       "2"
      ]
     },
     "execution_count": 24,
     "metadata": {},
     "output_type": "execute_result"
    }
   ],
   "source": [
    "#Erro ao utilizar \"@classmethod\" necessita de arumento 'cls'\n",
    "p1.get_num_pessoas()"
   ]
  },
  {
   "cell_type": "code",
   "execution_count": 25,
   "metadata": {},
   "outputs": [
    {
     "data": {
      "text/plain": [
       "'João'"
      ]
     },
     "execution_count": 25,
     "metadata": {},
     "output_type": "execute_result"
    }
   ],
   "source": [
    "p1.get_nome_pessoas()"
   ]
  },
  {
   "cell_type": "markdown",
   "metadata": {},
   "source": []
  },
  {
   "cell_type": "code",
   "execution_count": null,
   "metadata": {},
   "outputs": [],
   "source": []
  }
 ],
 "metadata": {
  "kernelspec": {
   "display_name": "Python 3",
   "language": "python",
   "name": "python3"
  },
  "language_info": {
   "codemirror_mode": {
    "name": "ipython",
    "version": 3
   },
   "file_extension": ".py",
   "mimetype": "text/x-python",
   "name": "python",
   "nbconvert_exporter": "python",
   "pygments_lexer": "ipython3",
   "version": "3.13.0"
  }
 },
 "nbformat": 4,
 "nbformat_minor": 2
}

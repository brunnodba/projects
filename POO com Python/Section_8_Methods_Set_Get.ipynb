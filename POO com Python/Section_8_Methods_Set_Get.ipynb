{
 "cells": [
  {
   "cell_type": "markdown",
   "metadata": {},
   "source": [
    "## Metodos Get e Set"
   ]
  },
  {
   "cell_type": "code",
   "execution_count": 38,
   "metadata": {},
   "outputs": [],
   "source": [
    "class Televisao():\n",
    "    #Atributos\n",
    "    def __init__(self, marca, ano, preco, n_canais):\n",
    "        self.marca = marca\n",
    "        self.ano = ano\n",
    "        self.preco = preco\n",
    "        self.n_canais = n_canais\n",
    "        self.__ligada = False    #Tornar privado o Atributo \"__\" para evitar alteração fora da Classe\n",
    "    \n",
    "    #Metodos\n",
    "    def mais_canal(self, valor):\n",
    "        self.n_canais += valor  \n",
    "        \n",
    "    def menos_canal(self, valor):\n",
    "        self.n_canais -= valor\n",
    "        \n",
    "    def liga_tv(self):\n",
    "        self.__ligada = True\n",
    "        print(\"TV Ligada! \", self.__ligada)\n",
    "        \n",
    "    def desliga_tv(self):\n",
    "        self.__ligada = False\n",
    "        print(\"TV Desligada! \", self.__ligada)\n",
    "    \n",
    "    def __meu_privado(self):\n",
    "        #print(\"Meu método privado!\") #Print não é retorno o método fica None(Vazio) #can only concatenate str (not \"NoneType\") to str\n",
    "        return \"Meu método privado!\"\n",
    "        \n",
    "    def teste(self):\n",
    "        #print(\"Estou utilizando um método privado aqui dentro - \" + str(self.marca) + \" ligada? \" + str(self.__ligada) + str(self.__meu_privado))\n",
    "        print(\"Estou utilizando um método privado aqui dentro - \" + self.marca + \" ligada? \" + str(self.__ligada) + self.__meu_privado())\n",
    "        \n",
    "    #Metodos Set e Get\n",
    "    def getMarca(self):\n",
    "        return self.marca\n",
    "    \n",
    "    def setMarca(self, marca_nova):\n",
    "        marca_anterior = self.marca\n",
    "        if len(marca_nova) > 5:\n",
    "            self.marca = marca_nova.title() #Title transoforma a 1ª letra em Maiuscula\n",
    "        else:\n",
    "            self.marca = marca_nova.upper()\n",
    "        return \"A Marca da TV foi alterada de '\" + marca_anterior + \"' para '\" + self.marca+\"'\"\n",
    "    \n",
    "    def setLigada(self,Valor):\n",
    "        self.__ligada = Valor\n",
    "        return self.getLigada()\n",
    "    \n",
    "    def getLigada(self):\n",
    "        if self.__ligada == True:\n",
    "            msg = f\"A Tv está Ligada! (Status: {self.__ligada})\"\n",
    "        else:\n",
    "            msg = f\"A Tv está Desligada! (Status: {self.__ligada})\"\n",
    "        return msg"
   ]
  },
  {
   "cell_type": "code",
   "execution_count": 39,
   "metadata": {},
   "outputs": [
    {
     "data": {
      "text/plain": [
       "<__main__.Televisao at 0x162dbd6b8c0>"
      ]
     },
     "execution_count": 39,
     "metadata": {},
     "output_type": "execute_result"
    }
   ],
   "source": [
    "b1 = Televisao(\"aOC\",2023, 200, 40)\n",
    "b1"
   ]
  },
  {
   "cell_type": "markdown",
   "metadata": {},
   "source": [
    "Set e GET"
   ]
  },
  {
   "cell_type": "code",
   "execution_count": 27,
   "metadata": {},
   "outputs": [
    {
     "data": {
      "text/plain": [
       "'aOC'"
      ]
     },
     "execution_count": 27,
     "metadata": {},
     "output_type": "execute_result"
    }
   ],
   "source": [
    "b1.getMarca()"
   ]
  },
  {
   "cell_type": "code",
   "execution_count": 32,
   "metadata": {},
   "outputs": [
    {
     "data": {
      "text/plain": [
       "\"A Marca da TV foi alterada de 'AC' para 'Samsung'\""
      ]
     },
     "execution_count": 32,
     "metadata": {},
     "output_type": "execute_result"
    }
   ],
   "source": [
    "b1.setMarca(\"samsung\")"
   ]
  },
  {
   "cell_type": "code",
   "execution_count": 33,
   "metadata": {},
   "outputs": [
    {
     "data": {
      "text/plain": [
       "'Samsung'"
      ]
     },
     "execution_count": 33,
     "metadata": {},
     "output_type": "execute_result"
    }
   ],
   "source": [
    "b1.getMarca()"
   ]
  },
  {
   "cell_type": "markdown",
   "metadata": {},
   "source": [
    "Métodos SET e GET para Atributos Privados"
   ]
  },
  {
   "cell_type": "code",
   "execution_count": 40,
   "metadata": {},
   "outputs": [
    {
     "data": {
      "text/plain": [
       "'A Tv está Desligada! (Status: False)'"
      ]
     },
     "execution_count": 40,
     "metadata": {},
     "output_type": "execute_result"
    }
   ],
   "source": [
    "b1.getLigada()"
   ]
  },
  {
   "cell_type": "code",
   "execution_count": 41,
   "metadata": {},
   "outputs": [
    {
     "data": {
      "text/plain": [
       "'A Tv está Ligada! (Status: True)'"
      ]
     },
     "execution_count": 41,
     "metadata": {},
     "output_type": "execute_result"
    }
   ],
   "source": [
    "b1.setLigada(True)"
   ]
  },
  {
   "cell_type": "code",
   "execution_count": 42,
   "metadata": {},
   "outputs": [
    {
     "data": {
      "text/plain": [
       "'A Tv está Ligada! (Status: True)'"
      ]
     },
     "execution_count": 42,
     "metadata": {},
     "output_type": "execute_result"
    }
   ],
   "source": [
    "b1.getLigada()"
   ]
  },
  {
   "cell_type": "code",
   "execution_count": 43,
   "metadata": {},
   "outputs": [
    {
     "data": {
      "text/plain": [
       "'A Tv está Desligada! (Status: False)'"
      ]
     },
     "execution_count": 43,
     "metadata": {},
     "output_type": "execute_result"
    }
   ],
   "source": [
    "b1.setLigada(False)"
   ]
  },
  {
   "cell_type": "markdown",
   "metadata": {},
   "source": [
    "Property em GET e SET"
   ]
  },
  {
   "cell_type": "code",
   "execution_count": 44,
   "metadata": {},
   "outputs": [
    {
     "data": {
      "text/plain": [
       "'aOC'"
      ]
     },
     "execution_count": 44,
     "metadata": {},
     "output_type": "execute_result"
    }
   ],
   "source": [
    "b1.marca"
   ]
  },
  {
   "cell_type": "code",
   "execution_count": 84,
   "metadata": {},
   "outputs": [],
   "source": [
    "class Televisao():\n",
    "    #Atributos\n",
    "    def __init__(self, marca, ano, preco, n_canais):\n",
    "        self.__marca = marca\n",
    "        self.__ano = ano\n",
    "        self.preco = preco\n",
    "        self.n_canais = n_canais\n",
    "        self.__ligada = False    #Tornar privado o Atributo \"__\" para evitar alteração fora da Classe\n",
    "    \n",
    "    #Metodos\n",
    "    @property #Transformando o Método em um Atributo GET\n",
    "    def marca(self):\n",
    "        return self.__marca\n",
    "    \n",
    "    @marca.setter\n",
    "    def marca(self, nova_marca):\n",
    "        self.__marca = nova_marca\n",
    "    \n",
    "        #Outro Tipo\n",
    "    def setAno(self, novo_ano):\n",
    "        self.__ano = novo_ano\n",
    "        return self.getAno()\n",
    "        \n",
    "    def getAno(self):\n",
    "        return self.__ano\n",
    "    \n",
    "    ano = property(fget=getAno, fset= setAno)\n",
    "    \n",
    "    ####\n",
    "    \n",
    "    def mais_canal(self, valor):\n",
    "        self.n_canais += valor  \n",
    "        \n",
    "    def menos_canal(self, valor):\n",
    "        self.n_canais -= valor\n",
    "        \n",
    "    def liga_tv(self):\n",
    "        self.__ligada = True\n",
    "        print(\"TV Ligada! \", self.__ligada)\n",
    "        \n",
    "    def desliga_tv(self):\n",
    "        self.__ligada = False\n",
    "        print(\"TV Desligada! \", self.__ligada)\n",
    "    \n",
    "    def __meu_privado(self):\n",
    "        #print(\"Meu método privado!\") #Print não é retorno o método fica None(Vazio) #can only concatenate str (not \"NoneType\") to str\n",
    "        return \"Meu método privado!\"\n",
    "        \n",
    "    def teste(self):\n",
    "        #print(\"Estou utilizando um método privado aqui dentro - \" + str(self.marca) + \" ligada? \" + str(self.__ligada) + str(self.__meu_privado))\n",
    "        print(\"Estou utilizando um método privado aqui dentro - \" + self.marca + \" ligada? \" + str(self.__ligada) + self.__meu_privado())\n",
    "        \n",
    "    #Metodos Set e Get\n",
    "    def getMarca(self):\n",
    "        return self.marca\n",
    "    \n",
    "    def setMarca(self, marca_nova):\n",
    "        marca_anterior = self.marca\n",
    "        if len(marca_nova) > 5:\n",
    "            self.marca = marca_nova.title() #Title transoforma a 1ª letra em Maiuscula\n",
    "        else:\n",
    "            self.marca = marca_nova.upper()\n",
    "        return \"A Marca da TV foi alterada de '\" + marca_anterior + \"' para '\" + self.marca+\"'\"\n",
    "    \n",
    "    def setLigada(self,Valor):\n",
    "        self.__ligada = Valor\n",
    "        return self.getLigada()\n",
    "    \n",
    "    def getLigada(self):\n",
    "        if self.__ligada == True:\n",
    "            msg = f\"A Tv está Ligada! (Status: {self.__ligada})\"\n",
    "        else:\n",
    "            msg = f\"A Tv está Desligada! (Status: {self.__ligada})\"\n",
    "        return msg"
   ]
  },
  {
   "cell_type": "code",
   "execution_count": 85,
   "metadata": {},
   "outputs": [
    {
     "data": {
      "text/plain": [
       "<__main__.Televisao at 0x162dc488ad0>"
      ]
     },
     "execution_count": 85,
     "metadata": {},
     "output_type": "execute_result"
    }
   ],
   "source": [
    "b2 = Televisao(\"AOC\",2023, 200, 40)\n",
    "b2"
   ]
  },
  {
   "cell_type": "code",
   "execution_count": 58,
   "metadata": {},
   "outputs": [
    {
     "data": {
      "text/plain": [
       "'AOC'"
      ]
     },
     "execution_count": 58,
     "metadata": {},
     "output_type": "execute_result"
    }
   ],
   "source": [
    "b2.marca"
   ]
  },
  {
   "cell_type": "code",
   "execution_count": 59,
   "metadata": {},
   "outputs": [
    {
     "ename": "TypeError",
     "evalue": "'str' object is not callable",
     "output_type": "error",
     "traceback": [
      "\u001b[1;31m---------------------------------------------------------------------------\u001b[0m",
      "\u001b[1;31mTypeError\u001b[0m                                 Traceback (most recent call last)",
      "Cell \u001b[1;32mIn[59], line 1\u001b[0m\n\u001b[1;32m----> 1\u001b[0m \u001b[43mb2\u001b[49m\u001b[38;5;241;43m.\u001b[39;49m\u001b[43mmarca\u001b[49m\u001b[43m(\u001b[49m\u001b[43m)\u001b[49m\n",
      "\u001b[1;31mTypeError\u001b[0m: 'str' object is not callable"
     ]
    }
   ],
   "source": [
    "#Por ter transformado em Atributo com @Property,não precisa do ()\n",
    "b2.marca() "
   ]
  },
  {
   "cell_type": "markdown",
   "metadata": {},
   "source": [
    "### Property Set"
   ]
  },
  {
   "cell_type": "code",
   "execution_count": null,
   "metadata": {},
   "outputs": [],
   "source": [
    "#@marca.setter\n",
    "b1.marca = 'LG'"
   ]
  },
  {
   "cell_type": "markdown",
   "metadata": {},
   "source": [
    "## Outras opcoes"
   ]
  },
  {
   "cell_type": "code",
   "execution_count": 72,
   "metadata": {},
   "outputs": [
    {
     "ename": "AttributeError",
     "evalue": "'Televisao' object has no attribute 'ano'",
     "output_type": "error",
     "traceback": [
      "\u001b[1;31m---------------------------------------------------------------------------\u001b[0m",
      "\u001b[1;31mAttributeError\u001b[0m                            Traceback (most recent call last)",
      "Cell \u001b[1;32mIn[72], line 2\u001b[0m\n\u001b[0;32m      1\u001b[0m \u001b[38;5;66;03m#__ano está privada\u001b[39;00m\n\u001b[1;32m----> 2\u001b[0m \u001b[43mb2\u001b[49m\u001b[38;5;241;43m.\u001b[39;49m\u001b[43mano\u001b[49m\n",
      "\u001b[1;31mAttributeError\u001b[0m: 'Televisao' object has no attribute 'ano'"
     ]
    }
   ],
   "source": [
    "#__ano está privada\n",
    "b2.ano"
   ]
  },
  {
   "cell_type": "code",
   "execution_count": 82,
   "metadata": {},
   "outputs": [
    {
     "data": {
      "text/plain": [
       "2023"
      ]
     },
     "execution_count": 82,
     "metadata": {},
     "output_type": "execute_result"
    }
   ],
   "source": [
    "b2.getAno()"
   ]
  },
  {
   "cell_type": "code",
   "execution_count": 83,
   "metadata": {},
   "outputs": [
    {
     "data": {
      "text/plain": [
       "2024"
      ]
     },
     "execution_count": 83,
     "metadata": {},
     "output_type": "execute_result"
    }
   ],
   "source": [
    "#Trocando Ano\n",
    "b2.setAno(2024)"
   ]
  },
  {
   "cell_type": "code",
   "execution_count": 87,
   "metadata": {},
   "outputs": [
    {
     "data": {
      "text/plain": [
       "2025"
      ]
     },
     "execution_count": 87,
     "metadata": {},
     "output_type": "execute_result"
    }
   ],
   "source": [
    "#Apos incluir \"ano = property(fget=getAno, fset= setAno)\"\n",
    "b2.ano"
   ]
  },
  {
   "cell_type": "code",
   "execution_count": 86,
   "metadata": {},
   "outputs": [],
   "source": [
    "b2.ano = 2025"
   ]
  },
  {
   "cell_type": "code",
   "execution_count": null,
   "metadata": {},
   "outputs": [],
   "source": []
  }
 ],
 "metadata": {
  "kernelspec": {
   "display_name": "Python 3",
   "language": "python",
   "name": "python3"
  },
  "language_info": {
   "codemirror_mode": {
    "name": "ipython",
    "version": 3
   },
   "file_extension": ".py",
   "mimetype": "text/x-python",
   "name": "python",
   "nbconvert_exporter": "python",
   "pygments_lexer": "ipython3",
   "version": "3.13.0"
  }
 },
 "nbformat": 4,
 "nbformat_minor": 2
}

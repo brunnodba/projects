{
 "cells": [
  {
   "cell_type": "markdown",
   "metadata": {},
   "source": [
    "## Conceito de Herança"
   ]
  },
  {
   "cell_type": "markdown",
   "metadata": {},
   "source": [
    "Impede que atributos sejam criados na classe dinamicamente sem terem sido definidos no código."
   ]
  },
  {
   "cell_type": "markdown",
   "metadata": {},
   "source": [
    "## Boas Práticas\n",
    "- Proteger os atributos, deixando-os privados.\n",
    "- Encapsular fazendo validações de valores dos atributos\n",
    "- Usar Heranças para evitar repetir códigos"
   ]
  },
  {
   "cell_type": "markdown",
   "metadata": {},
   "source": [
    "## Herança\n",
    "\n",
    "- Toda classe já herda de object (mãe de todas as classes)\n",
    "- Classe Mae ou Super Class\n",
    "- Classe Filha"
   ]
  },
  {
   "cell_type": "markdown",
   "metadata": {},
   "source": [
    "## Super Classe Object"
   ]
  },
  {
   "cell_type": "code",
   "execution_count": 1,
   "metadata": {},
   "outputs": [
    {
     "data": {
      "text/plain": [
       "['__class__',\n",
       " '__delattr__',\n",
       " '__dir__',\n",
       " '__doc__',\n",
       " '__eq__',\n",
       " '__format__',\n",
       " '__ge__',\n",
       " '__getattribute__',\n",
       " '__getstate__',\n",
       " '__gt__',\n",
       " '__hash__',\n",
       " '__init__',\n",
       " '__init_subclass__',\n",
       " '__le__',\n",
       " '__lt__',\n",
       " '__ne__',\n",
       " '__new__',\n",
       " '__reduce__',\n",
       " '__reduce_ex__',\n",
       " '__repr__',\n",
       " '__setattr__',\n",
       " '__sizeof__',\n",
       " '__str__',\n",
       " '__subclasshook__']"
      ]
     },
     "execution_count": 1,
     "metadata": {},
     "output_type": "execute_result"
    }
   ],
   "source": [
    "dir(object)"
   ]
  },
  {
   "cell_type": "markdown",
   "metadata": {},
   "source": [
    "A Class \"Funcionario\" herda os atributos de \"Object\"\n",
    "\n",
    "Objetos abaixo criados sem utilização de Herança, com muitas repetições de código e atributos."
   ]
  },
  {
   "cell_type": "code",
   "execution_count": 31,
   "metadata": {},
   "outputs": [],
   "source": [
    "class Funcionario:\n",
    "    def __init__(self, nome, cpf, salario):\n",
    "        self._nome = nome\n",
    "        self._cpf = cpf\n",
    "        self.salario = salario"
   ]
  },
  {
   "cell_type": "code",
   "execution_count": 32,
   "metadata": {},
   "outputs": [],
   "source": [
    "class Gerente:\n",
    "    def __init__(self, nome, cpf, salario, senha, qtd_subordinados):\n",
    "        self._nome = nome\n",
    "        self._cpf = cpf\n",
    "        self._salario = salario\n",
    "        self._senha = senha\n",
    "        self._qtd_subordinados = qtd_subordinados\n",
    "        \n",
    "    def validacao(self, senha):\n",
    "        if self._senha == senha:\n",
    "            print(\"Acesso Permitido!\")\n",
    "            return True\n",
    "        else:\n",
    "            print(\"Acesso Negado!\")\n",
    "            return False"
   ]
  },
  {
   "cell_type": "code",
   "execution_count": 37,
   "metadata": {},
   "outputs": [],
   "source": [
    "g2 = Gerente('João', '123.456.123-12', 5000, 123,50)"
   ]
  },
  {
   "cell_type": "code",
   "execution_count": 38,
   "metadata": {},
   "outputs": [
    {
     "data": {
      "text/plain": [
       "5000"
      ]
     },
     "execution_count": 38,
     "metadata": {},
     "output_type": "execute_result"
    }
   ],
   "source": [
    "g2._salario"
   ]
  },
  {
   "cell_type": "markdown",
   "metadata": {},
   "source": [
    "## Criação de Classes utilizando Herança"
   ]
  },
  {
   "cell_type": "code",
   "execution_count": 36,
   "metadata": {},
   "outputs": [],
   "source": [
    "class Funcionario:\n",
    "    def __init__(self, nome, cpf, salario):\n",
    "        self._nome = nome\n",
    "        self._cpf = cpf\n",
    "        self.salario = salario"
   ]
  },
  {
   "cell_type": "code",
   "execution_count": null,
   "metadata": {},
   "outputs": [],
   "source": [
    "class Gerente(Funcionario):\n",
    "    def __init__(self, nome, cpf, salario, senha, qtd_subordinados):\n",
    "        Funcionario.__init__(self, nome, cpf, salario)\n",
    "        self._nome = nome\n",
    "        self._cpf = cpf\n",
    "        self._salario = salario\n",
    "        self._senha = senha\n",
    "        self._qtd_subordinados = qtd_subordinados\n",
    "        \n",
    "    def validacao(self, senha):\n",
    "        if self._senha == senha:\n",
    "            print(\"Acesso Permitido!\")\n",
    "            return True\n",
    "        else:\n",
    "            print(\"Acesso Negado!\")\n",
    "            return False"
   ]
  },
  {
   "cell_type": "code",
   "execution_count": 40,
   "metadata": {},
   "outputs": [],
   "source": [
    "g1 = Gerente('João', '123.456.123-12', 5000, 123,50)"
   ]
  },
  {
   "cell_type": "code",
   "execution_count": 41,
   "metadata": {},
   "outputs": [
    {
     "data": {
      "text/plain": [
       "5000"
      ]
     },
     "execution_count": 41,
     "metadata": {},
     "output_type": "execute_result"
    }
   ],
   "source": [
    "g1.salario"
   ]
  },
  {
   "cell_type": "markdown",
   "metadata": {},
   "source": [
    "Método Super()"
   ]
  },
  {
   "cell_type": "code",
   "execution_count": null,
   "metadata": {},
   "outputs": [],
   "source": [
    "class Secretaria(Funcionario):\n",
    "    def __init__(self, nome, cpf, salario, senha, qtd_gerentes):\n",
    "        super().__init__(self, nome, cpf, salario)\n",
    "        self._senha = senha\n",
    "        self._qtd_gerentes = qtd_gerentes"
   ]
  },
  {
   "cell_type": "code",
   "execution_count": 42,
   "metadata": {},
   "outputs": [],
   "source": [
    "s1 = Secretaria('Julia', 159, 1500, 123456, 5)"
   ]
  },
  {
   "cell_type": "code",
   "execution_count": 43,
   "metadata": {},
   "outputs": [
    {
     "data": {
      "text/plain": [
       "'Julia'"
      ]
     },
     "execution_count": 43,
     "metadata": {},
     "output_type": "execute_result"
    }
   ],
   "source": [
    "s1._nome"
   ]
  },
  {
   "cell_type": "markdown",
   "metadata": {},
   "source": [
    "# Sobrescrita de Métodos\n",
    "\n",
    "- Bonificação com base em Salário\n",
    "- Número de Pessoas sob responsabilidade"
   ]
  },
  {
   "cell_type": "code",
   "execution_count": 61,
   "metadata": {},
   "outputs": [],
   "source": [
    "class Funcionario:\n",
    "    def __init__(self, nome, cpf, salario):\n",
    "        self._nome = nome\n",
    "        self._cpf = cpf\n",
    "        self._salario = salario\n",
    "        \n",
    "    def mostrar_bonus(self):\n",
    "        return self._salario * 0.10"
   ]
  },
  {
   "cell_type": "code",
   "execution_count": 81,
   "metadata": {},
   "outputs": [],
   "source": [
    "class Gerente(Funcionario):\n",
    "    def __init__(self, nome, cpf, salario, senha, qtd_subordinados):\n",
    "        Funcionario.__init__(self, nome, cpf, salario)\n",
    "        self._nome = nome\n",
    "        self._cpf = cpf\n",
    "        self._salario = salario\n",
    "        self._senha = senha\n",
    "        self._qtd_subordinados = qtd_subordinados\n",
    "    \n",
    "    def mostrar_bonus(self):\n",
    "        return self._salario * 0.10 + self._qtd_subordinados*0.10\n",
    "        \n",
    "class Secretaria(Funcionario):\n",
    "    def __init__(self, nome, cpf, salario, senha, qtd_gerentes):\n",
    "        Funcionario.__init__(self, nome, cpf, salario)\n",
    "        self._senha = senha\n",
    "        self._qtd_gerentes = qtd_gerentes        \n",
    "        \n",
    "    def mostrar_bonus(self):\n",
    "        return self._salario * 0.10 + self._qtd_gerentes*0.10"
   ]
  },
  {
   "cell_type": "code",
   "execution_count": 82,
   "metadata": {},
   "outputs": [],
   "source": [
    "g1 = Gerente('Lucas', 987, 5600, 1234, 10)\n",
    "s1 = Secretaria('Renata', 456, 4000, 789, 5)"
   ]
  },
  {
   "cell_type": "code",
   "execution_count": 83,
   "metadata": {},
   "outputs": [
    {
     "data": {
      "text/plain": [
       "561.0"
      ]
     },
     "execution_count": 83,
     "metadata": {},
     "output_type": "execute_result"
    }
   ],
   "source": [
    "g1.mostrar_bonus()"
   ]
  },
  {
   "cell_type": "code",
   "execution_count": 84,
   "metadata": {},
   "outputs": [
    {
     "data": {
      "text/plain": [
       "400.5"
      ]
     },
     "execution_count": 84,
     "metadata": {},
     "output_type": "execute_result"
    }
   ],
   "source": [
    "s1.mostrar_bonus()"
   ]
  }
 ],
 "metadata": {
  "kernelspec": {
   "display_name": "Python 3",
   "language": "python",
   "name": "python3"
  },
  "language_info": {
   "codemirror_mode": {
    "name": "ipython",
    "version": 3
   },
   "file_extension": ".py",
   "mimetype": "text/x-python",
   "name": "python",
   "nbconvert_exporter": "python",
   "pygments_lexer": "ipython3",
   "version": "3.13.0"
  }
 },
 "nbformat": 4,
 "nbformat_minor": 2
}

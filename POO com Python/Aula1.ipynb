{
 "cells": [
  {
   "cell_type": "markdown",
   "metadata": {},
   "source": [
    "**<h1>Curso POO com Python</h1>**"
   ]
  },
  {
   "cell_type": "markdown",
   "metadata": {},
   "source": [
    "<h3>Prof.: Rafael Fernandes <br>\n",
    "Canal do YouTube - Analistas Quant\n",
    "</h3>"
   ]
  },
  {
   "cell_type": "markdown",
   "metadata": {},
   "source": [
    "#Programas grandes e complexos podem utilizar o paradigma procedural"
   ]
  },
  {
   "cell_type": "code",
   "execution_count": null,
   "metadata": {},
   "outputs": [],
   "source": [
    "#Televisoes\n",
    "#TV 1\n",
    "ano = 2023\n",
    "marca = 'LG'\n",
    "preco = 1200\n",
    "n_canais = 30"
   ]
  },
  {
   "cell_type": "code",
   "execution_count": null,
   "metadata": {},
   "outputs": [],
   "source": [
    "#TV 2\n",
    "ano = 2024\n",
    "marca = 'Samsung'\n",
    "preco = 1500\n",
    "n_canais = 50"
   ]
  },
  {
   "cell_type": "code",
   "execution_count": 3,
   "metadata": {},
   "outputs": [
    {
     "data": {
      "text/plain": [
       "{'ano': 2023, 'marca': 'LG', 'preco': 1000, 'n_canais': 25}"
      ]
     },
     "execution_count": 3,
     "metadata": {},
     "output_type": "execute_result"
    }
   ],
   "source": [
    "tv_3 = {'ano':2023, 'marca': 'LG', 'preco': 1000, 'n_canais':25}\n",
    "tv_3"
   ]
  },
  {
   "cell_type": "code",
   "execution_count": 7,
   "metadata": {},
   "outputs": [
    {
     "data": {
      "text/plain": [
       "[{'nome_tv': 'TV_1',\n",
       "  'ano': 2023,\n",
       "  'marca': 'LG',\n",
       "  'preco': 1200,\n",
       "  'n_canais': 30},\n",
       " {'nome_tv': 'TV_2',\n",
       "  'ano': 2024,\n",
       "  'marca': 'Samsung',\n",
       "  'preco': 1500,\n",
       "  'n_canais': 50},\n",
       " {'nome_tv': 'TV_3',\n",
       "  'ano': 2023,\n",
       "  'marca': 'LG',\n",
       "  'preco': 1000,\n",
       "  'n_canais': 25}]"
      ]
     },
     "execution_count": 7,
     "metadata": {},
     "output_type": "execute_result"
    }
   ],
   "source": [
    "lista_tv = [\n",
    "    {'nome_tv':'TV_1','ano':2023, 'marca': 'LG', 'preco': 1200, 'n_canais':30},\n",
    "    {'nome_tv':'TV_2','ano':2024, 'marca': 'Samsung', 'preco': 1500, 'n_canais':50},\n",
    "    {'nome_tv':'TV_3','ano':2023, 'marca': 'LG', 'preco': 1000, 'n_canais':25}\n",
    "]\n",
    "lista_tv"
   ]
  },
  {
   "cell_type": "code",
   "execution_count": 8,
   "metadata": {},
   "outputs": [],
   "source": [
    "def cria_tv(nome, ano, marca, preco,n_canais):\n",
    "    tv = {'nome_tv':nome, 'ano':ano, 'marca': marca, 'preco': preco, 'n_canais':n_canais}\n",
    "    return tv"
   ]
  },
  {
   "cell_type": "code",
   "execution_count": 9,
   "metadata": {},
   "outputs": [
    {
     "data": {
      "text/plain": [
       "{'nome_tv': 'TV4', 'ano': 2024, 'marca': 'LG', 'preco': 1000, 'n_canais': 27}"
      ]
     },
     "execution_count": 9,
     "metadata": {},
     "output_type": "execute_result"
    }
   ],
   "source": [
    "t4 = cria_tv('TV4', 2024, 'LG', 1000, 27)\n",
    "t4"
   ]
  },
  {
   "cell_type": "code",
   "execution_count": 10,
   "metadata": {},
   "outputs": [
    {
     "data": {
      "text/plain": [
       "dict_keys(['nome_tv', 'ano', 'marca', 'preco', 'n_canais'])"
      ]
     },
     "execution_count": 10,
     "metadata": {},
     "output_type": "execute_result"
    }
   ],
   "source": [
    "t4.keys()"
   ]
  },
  {
   "cell_type": "code",
   "execution_count": 11,
   "metadata": {},
   "outputs": [
    {
     "data": {
      "text/plain": [
       "dict_values(['TV4', 2024, 'LG', 1000, 27])"
      ]
     },
     "execution_count": 11,
     "metadata": {},
     "output_type": "execute_result"
    }
   ],
   "source": [
    "t4.values()"
   ]
  },
  {
   "cell_type": "code",
   "execution_count": 13,
   "metadata": {},
   "outputs": [
    {
     "data": {
      "text/plain": [
       "'LG'"
      ]
     },
     "execution_count": 13,
     "metadata": {},
     "output_type": "execute_result"
    }
   ],
   "source": [
    "t4['marca']"
   ]
  },
  {
   "cell_type": "code",
   "execution_count": 14,
   "metadata": {},
   "outputs": [
    {
     "name": "stdout",
     "output_type": "stream",
     "text": [
      "<class 'dict'>\n"
     ]
    }
   ],
   "source": [
    "print(type(t4))"
   ]
  },
  {
   "cell_type": "code",
   "execution_count": 20,
   "metadata": {},
   "outputs": [],
   "source": [
    "def aumentar_canais(tv_dict,add_canais):\n",
    "    tv_dict['n_canais'] += add_canais\n",
    "    \n",
    "def diminuir_canais(tv_dict,add_canais):\n",
    "    tv_dict['n_canais'] -= add_canais\n",
    "    "
   ]
  },
  {
   "cell_type": "code",
   "execution_count": 16,
   "metadata": {},
   "outputs": [
    {
     "data": {
      "text/plain": [
       "27"
      ]
     },
     "execution_count": 16,
     "metadata": {},
     "output_type": "execute_result"
    }
   ],
   "source": [
    "t4['n_canais']"
   ]
  },
  {
   "cell_type": "code",
   "execution_count": 19,
   "metadata": {},
   "outputs": [
    {
     "data": {
      "text/plain": [
       "30"
      ]
     },
     "execution_count": 19,
     "metadata": {},
     "output_type": "execute_result"
    }
   ],
   "source": [
    "aumentar_canais(t4, 3)\n",
    "t4['n_canais']"
   ]
  },
  {
   "cell_type": "code",
   "execution_count": 21,
   "metadata": {},
   "outputs": [
    {
     "data": {
      "text/plain": [
       "25"
      ]
     },
     "execution_count": 21,
     "metadata": {},
     "output_type": "execute_result"
    }
   ],
   "source": [
    "diminuir_canais(t4, 5)\n",
    "t4['n_canais']"
   ]
  },
  {
   "cell_type": "code",
   "execution_count": null,
   "metadata": {},
   "outputs": [],
   "source": []
  }
 ],
 "metadata": {
  "kernelspec": {
   "display_name": "Python 3",
   "language": "python",
   "name": "python3"
  },
  "language_info": {
   "codemirror_mode": {
    "name": "ipython",
    "version": 3
   },
   "file_extension": ".py",
   "mimetype": "text/x-python",
   "name": "python",
   "nbconvert_exporter": "python",
   "pygments_lexer": "ipython3",
   "version": "3.13.0"
  }
 },
 "nbformat": 4,
 "nbformat_minor": 2
}
